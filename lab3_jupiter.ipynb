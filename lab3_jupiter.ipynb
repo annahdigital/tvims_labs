{
 "cells": [
  {
   "cell_type": "markdown",
   "metadata": {},
   "source": [
    "# Лабораторная работа 3.\n",
    "###  Проверка статистических гипотез в виде закона распределения."
   ]
  },
  {
   "cell_type": "code",
   "execution_count": 1,
   "metadata": {},
   "outputs": [],
   "source": [
    "import random\n",
    "import math\n",
    "import matplotlib.pyplot as plt\n",
    "import numpy as np\n",
    "from scipy.stats import chi2\n",
    "from scipy.stats import ksone"
   ]
  },
  {
   "cell_type": "markdown",
   "metadata": {},
   "source": [
    "*Так как в процессе выполнения работы потребуется сформировать выборку из  n случайных чисел в соответствии с заданным в типовом расчете  Y = f(xᵢ), где Xᵢ - равномерно распределенное число из заданного интервала [a, b], i = 1, ...n, определяется ряд вспомогательных функций:*"
   ]
  },
  {
   "cell_type": "code",
   "execution_count": 2,
   "metadata": {},
   "outputs": [],
   "source": [
    "a = -2\n",
    "b = 2\n",
    "\n",
    "\n",
    "#  Y = f(xᵢ)\n",
    "def Y(x):\n",
    "    return x*x\n",
    "\n",
    "\n",
    "# теоретическая плотность распределения\n",
    "def f(y):\n",
    "    return 1/(4 * y**0.5)\n",
    "\n",
    "\n",
    "# теоретическая функция распределения\n",
    "def F(y):\n",
    "    return y**0.5/2\n",
    "\n",
    "\n",
    "# Определение интервала для значений Y = f(xᵢ)\n",
    "def find_borders():\n",
    "    ay = Y(a)\n",
    "    by = Y(b)\n",
    "    xes = np.arange(a, b + 0.001, 0.001)\n",
    "    for x in xes:\n",
    "        ay = min(ay, Y(x))\n",
    "        by = max(by, Y(x))\n",
    "    ay = round(ay, 2)\n",
    "    by = round(by, 2)\n",
    "    return ay, by\n",
    "\n",
    "\n",
    "# Определение количества значений,\n",
    "# попадающих в пределы заданного интервала:\n",
    "def number_of_values_on_interval(M, variation, A_intervals, B_intervals):\n",
    "    v_interval = [0] * M\n",
    "    for i in range(0, M):\n",
    "        for value in variation:\n",
    "            if A_intervals[i] < value < B_intervals[i]:\n",
    "                v_interval[i] += 1\n",
    "            if value == B_intervals[i] and i != M - 1:\n",
    "                v_interval[i] += 0.5\n",
    "                v_interval[i + 1] += 0.5\n",
    "    v_interval[0] += 1\n",
    "    v_interval[-1] += 1\n",
    "    return v_interval\n",
    "\n",
    "\n",
    "def possibility_method(variation, M, n):         # равновероятностный метод\n",
    "    mi = n // M\n",
    "    B_pos = [(variation[i * mi] + variation[i * mi + 1]) / 2 for i in range(1, M)] + [variation[-1]]\n",
    "    A_pos = [variation[0]] + B_pos[:-1]\n",
    "    delta_pos = [B_pos[i] - A_pos[i] for i in range(M)]\n",
    "    v_pos = number_of_values_on_interval(M, variation, A_pos, B_pos)\n",
    "    f_pos = [v_pos[i] / (n * delta_pos[i]) for i in range(M)]\n",
    "    return A_pos, B_pos, f_pos\n",
    "\n",
    "\n",
    "# Построение гистограммы и полигона распределения\n",
    "def histogram_n_polygon(M, func, A, B):\n",
    "    plt.title(\"Гистограмма\\n и полигон\\n распределения\")\n",
    "    max_height = [0] * (M + 1)\n",
    "    for i in range(M):\n",
    "        max_height[i] = max(func[i-1], func[i])\n",
    "    max_height[0] = func[0]\n",
    "    max_height[-1] = func[-1]\n",
    "    plt.hlines(func, A, B, color='red')\n",
    "    plt.axhline(0, color='red')\n",
    "    A.append(B[-1])\n",
    "    plt.vlines(A, [0], max_height, color='red')\n",
    "    plt.xlim(A[0] - 0.5, B[-1] + 0.5)\n",
    "    middle = [(A[i] + A[i + 1])/2 for i in range(M)]\n",
    "    plt.plot(middle, func, color='blue')\n",
    "\n",
    "\n",
    "# Построение графика теоретической функции распределения\n",
    "def theor_density(ay, by, A, B, func):\n",
    "    plt.title(\"Теоретическая\\n плотность\\n  распределения\")\n",
    "    xes = np.arange(ay, by, 0.001)\n",
    "    ys = [f(x) for x in xes if x != 0]\n",
    "    xes = [x for x in xes if x != 0]\n",
    "    plt.ylim(-0.1, max(func) + 0.2)\n",
    "    plt.xlim(A[0] - 0.5, B[-1] + 0.5)\n",
    "    plt.hlines(0, A[0] - 0.5, 0, color='blue')\n",
    "    plt.hlines(0, 4, B[-1] + 0.5, color='blue')\n",
    "    plt.plot(xes, ys, color='blue')\n",
    "\n",
    "\n",
    "# Построение гистограммы, полигона распределения и теоретической функции\n",
    "# распределения в одном окне\n",
    "def graphics(M, func, A, B):\n",
    "    plt.subplot(1, 3, 1)\n",
    "    histogram_n_polygon(M, func, A, B)\n",
    "    plt.grid()\n",
    "    plt.subplot(1, 3, 2)\n",
    "    ay, by = find_borders()\n",
    "    theor_density(ay, by, A, B, func)\n",
    "    plt.grid()\n",
    "    plt.show()\n",
    "\n",
    "\n",
    "# формирование вариационного ряда\n",
    "def generation_of_the_row(n):\n",
    "    eps = [np.random.uniform(0, 1) for i in range(n)]\n",
    "    x = [(ei * (b - a) + a) for ei in eps]\n",
    "    y = [Y(xi) for xi in x]\n",
    "    variation = sorted(y)\n",
    "    return variation\n",
    "\n",
    "\n",
    "# Выбор параметра M (количества интервалов для группирования данных):\n",
    "def find_interval_number(n):\n",
    "    if n <= 100:\n",
    "        M = int(n**0.5)\n",
    "    else:\n",
    "        M = int(random.uniform(2, 4) * math.log10(n))\n",
    "    return M\n",
    "\n",
    "\n",
    "# построение теоретической и эмпирической функций распределения\n",
    "def emp_theor_graphics(ay, by, variation):\n",
    "    hi = (by - ay) / n\n",
    "    h_start = [hi*i for i in range(n)]\n",
    "    h_end = [h + hi for h in h_start]\n",
    "    f_emp = [len([v for v in variation if v <= hi])/n for hi in h_end]\n",
    "    plt.subplot(1, 2, 1)\n",
    "    plt.hlines(f_emp, h_start, h_end, color='red')\n",
    "    plt.xlim(ay, by)\n",
    "    plt.title(\"Эмпирическая функция\\n распределения\")\n",
    "    plt.subplot(1, 2, 2)\n",
    "    arg_list = np.arange(ay, by, 0.001)\n",
    "    func_theor = [F(x) for x in arg_list]\n",
    "    plt.plot(arg_list, func_theor, color='blue')\n",
    "    plt.xlim(ay, by)\n",
    "    plt.title(\"Теоретическая функция\\n распределения\")\n",
    "    plt.grid()\n",
    "    plt.show()\n",
    "    return f_emp"
   ]
  },
  {
   "cell_type": "markdown",
   "metadata": {},
   "source": [
    "### Критерий согласия Пирсона.\n",
    "*Формирование выборки из 200 СВ, проверка гипотезы о соответствии выборки теоретическому закону распределения согласно критерию согласия Пирсона.*"
   ]
  },
  {
   "cell_type": "code",
   "execution_count": 3,
   "metadata": {},
   "outputs": [],
   "source": [
    "def Pearsons_chi_squared_test(M, variation, n):\n",
    "    A_pos, B_pos, f_pos = possibility_method(variation, M, n)\n",
    "    graphics(M, f_pos, A_pos, B_pos)\n",
    "    v_interval = number_of_values_on_interval(M, variation, A_pos, B_pos)\n",
    "    p_interval = [v_interval[i] / n for i in range(M)]\n",
    "    p_theor = [F(B_pos[i]) - F(A_pos[i]) for i in range(M)]\n",
    "    confidence_interval = 0.01\n",
    "    if abs(1 - sum(p_theor)) > confidence_interval:\n",
    "        confidence_interval *= 2\n",
    "    chi_sq = n * sum([(p_theor[i] - p_interval[i]) ** 2 / p_theor[i] for i in range(M)])\n",
    "    print(\"Pearson's chi-squared test:\")\n",
    "    if chi_sq < chi2.isf(confidence_interval, M - 1):\n",
    "        print(\"True: \", chi_sq, \" < \", chi2.isf(confidence_interval, M - 1))\n",
    "    else:\n",
    "        print(\"False: \", chi_sq, \" > \", chi2.isf(confidence_interval, M - 1))"
   ]
  },
  {
   "cell_type": "code",
   "execution_count": 4,
   "metadata": {},
   "outputs": [
    {
     "data": {
      "image/png": "[encoded data removed]",
      "text/plain": [
       "<Figure size 432x288 with 2 Axes>"
      ]
     },
     "metadata": {
      "needs_background": "light"
     },
     "output_type": "display_data"
    },
    {
     "name": "stdout",
     "output_type": "stream",
     "text": [
      "Pearson's chi-squared test:\n",
      "True:  0.564779494041626  <  11.667843403834782\n"
     ]
    }
   ],
   "source": [
    "n = 200                                  # Критерий Пирсона\n",
    "variation = generation_of_the_row(n)\n",
    "M = find_interval_number(n)\n",
    "Pearsons_chi_squared_test(M, variation, n)"
   ]
  },
  {
   "cell_type": "markdown",
   "metadata": {},
   "source": [
    " ### Критерий согласия Колмогорова.\n",
    " *Формирование выборки из 30 СВ, проверка гипотезы о соответствии выборки теоретическому закону распределения согласно критерию согласия Колмогорова.*"
   ]
  },
  {
   "cell_type": "code",
   "execution_count": 5,
   "metadata": {},
   "outputs": [],
   "source": [
    "def Kolmogorov_test(variation, n):\n",
    "    ay, by = find_borders()\n",
    "    emp_theor_graphics(ay, by, variation)\n",
    "    f_theor = [F(x) for x in variation]\n",
    "    max_d = max([max(i/n - F(variation[i]), F(variation[i]) - (i-1)/n) for i in range(n)])\n",
    "    lambda_crit = n ** 0.5 * max_d\n",
    "    print(\"Kolmogorov test:\")\n",
    "    kolmogorov_function = n**0.5 * ksone.ppf(1-0.01/2, n)\n",
    "    if lambda_crit < kolmogorov_function:\n",
    "        print(\"True: \", lambda_crit, \" < \", kolmogorov_function)\n",
    "    else:\n",
    "        print(\"False: \", lambda_crit, \" > \", kolmogorov_function)"
   ]
  },
  {
   "cell_type": "code",
   "execution_count": 6,
   "metadata": {},
   "outputs": [
    {
     "data": {
      "image/png": "[encoded data removed]",
      "text/plain": [
       "<Figure size 432x288 with 2 Axes>"
      ]
     },
     "metadata": {
      "needs_background": "light"
     },
     "output_type": "display_data"
    },
    {
     "name": "stdout",
     "output_type": "stream",
     "text": [
      "Kolmogorov test:\n",
      "True:  1.1918807491472347  <  1.5876500066781907\n"
     ]
    }
   ],
   "source": [
    "n = 30                                  # Критерий Колмогорова\n",
    "variation = generation_of_the_row(n)\n",
    "Kolmogorov_test(variation, n)"
   ]
  },
  {
   "cell_type": "markdown",
   "metadata": {},
   "source": [
    " ### Критерий согласия Мизеса.\n",
    " *Формирование выборки из 30 СВ, проверка гипотезы о соответствии выборки теоретическому закону распределения согласно критерию согласия Мизеса.*"
   ]
  },
  {
   "cell_type": "code",
   "execution_count": 7,
   "metadata": {},
   "outputs": [],
   "source": [
    "def Mises_criterion(variation, n):\n",
    "    f_emp = [(i - 0.5) / n for i in range(n)]\n",
    "    f_theor = [F(variation[i]) for i in range(n)]\n",
    "    D = [(f_emp[i] - f_theor[i]) ** 2 for i in range(n)]\n",
    "    n_w_sq = 1 / (12 * n) + sum(D)\n",
    "    mises_crit = 0.744          # alpha = 0.01\n",
    "    print(\"Mises criterion:\")\n",
    "    if n_w_sq < mises_crit:\n",
    "        print(\"True: \", n_w_sq, \" < \", mises_crit)\n",
    "    else:\n",
    "        print(\"False: \", n_w_sq, \" > \", mises_crit)"
   ]
  },
  {
   "cell_type": "code",
   "execution_count": 8,
   "metadata": {},
   "outputs": [
    {
     "name": "stdout",
     "output_type": "stream",
     "text": [
      "Mises criterion:\n",
      "True:  0.2492737470100758  <  0.744\n"
     ]
    }
   ],
   "source": [
    "n = 50                                 # Критерий Мизеса\n",
    "variation = generation_of_the_row(n)\n",
    "Mises_criterion(variation, n)"
   ]
  }
 ],
 "metadata": {
  "kernelspec": {
   "display_name": "Python 3",
   "language": "python",
   "name": "python3"
  },
  "language_info": {
   "codemirror_mode": {
    "name": "ipython",
    "version": 3
   },
   "file_extension": ".py",
   "mimetype": "text/x-python",
   "name": "python",
   "nbconvert_exporter": "python",
   "pygments_lexer": "ipython3",
   "version": "3.6.7"
  }
 },
 "nbformat": 4,
 "nbformat_minor": 2
}
