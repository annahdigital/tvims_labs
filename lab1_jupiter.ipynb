{
 "cells": [
  {
   "cell_type": "markdown",
   "metadata": {},
   "source": [
    " # Лабораторная работа 1."
   ]
  },
  {
   "cell_type": "markdown",
   "metadata": {},
   "source": [
    "### Основные понятия математической статистики. Вариационный ряд. Эмпирическая функция распределения."
   ]
  },
  {
   "cell_type": "code",
   "execution_count": 4,
   "metadata": {},
   "outputs": [],
   "source": [
    "import matplotlib.pyplot as plt\n",
    "import numpy as np\n",
    "from prettytable import PrettyTable"
   ]
  },
  {
   "cell_type": "markdown",
   "metadata": {},
   "source": [
    "*Согласно заданию типового расчета определена выборка случайных величин  Y = f(xᵢ), где Xᵢ - равномерно распределенное число из заданного интервала [a, b], i = 1, ...n.*"
   ]
  },
  {
   "cell_type": "code",
   "execution_count": 3,
   "metadata": {},
   "outputs": [],
   "source": [
    "a = -2\n",
    "b = 2\n",
    "\n",
    "def Y(x):\n",
    "    return x*x"
   ]
  },
  {
   "cell_type": "markdown",
   "metadata": {},
   "source": [
    "*Задание величины n (объем выборки).*"
   ]
  },
  {
   "cell_type": "code",
   "execution_count": 5,
   "metadata": {},
   "outputs": [
    {
     "name": "stdout",
     "output_type": "stream",
     "text": [
      "Enter n. 50\n"
     ]
    }
   ],
   "source": [
    "n = int(input(\"Enter n. \"))"
   ]
  },
  {
   "cell_type": "markdown",
   "metadata": {},
   "source": [
    "*Формирование выборки случайных величин Y путем получения равномерно распределенного числа Ƹ из интервала [0, 1] и его преобразования в число Xᵢ, имеющее равномерное распределение из требуемого интервала [a, b], по формуле Xᵢ = Ƹᵢ*(b-a) + a:*"
   ]
  },
  {
   "cell_type": "code",
   "execution_count": 6,
   "metadata": {},
   "outputs": [],
   "source": [
    "eps = [np.random.uniform(0, 1) for i in range(n)]\n",
    "x = [(ei*(b-a) + a) for ei in eps]\n",
    "y = [Y(xi) for xi in x]"
   ]
  },
  {
   "cell_type": "markdown",
   "metadata": {},
   "source": [
    "*Построение вариационного ряда для полученной случайной величины:*"
   ]
  },
  {
   "cell_type": "code",
   "execution_count": 7,
   "metadata": {},
   "outputs": [],
   "source": [
    "variation = sorted(y)"
   ]
  },
  {
   "cell_type": "markdown",
   "metadata": {},
   "source": [
    "*В аналитическом виде была получена теоретическая функция распределения СВ:*"
   ]
  },
  {
   "cell_type": "code",
   "execution_count": 8,
   "metadata": {},
   "outputs": [],
   "source": [
    "def F(y):\n",
    "    return y**0.5/2"
   ]
  },
  {
   "cell_type": "markdown",
   "metadata": {},
   "source": [
    "*Построение эмпирической функции распределения СВ, ее изображение в виде графика и таблицы, а также представление графика теоретической функции распределения в одном окне:*"
   ]
  },
  {
   "cell_type": "code",
   "execution_count": 9,
   "metadata": {},
   "outputs": [],
   "source": [
    "def find_borders():\n",
    "    ay = Y(a)\n",
    "    by = Y(b)\n",
    "    xes = np.arange(a, b + 0.001, 0.001)\n",
    "    for x in xes:\n",
    "        ay = min(ay, Y(x))\n",
    "        by = max(by, Y(x))\n",
    "    ay = round(ay, 2)\n",
    "    by = round(by, 2)\n",
    "    return ay, by\n",
    "\n",
    "\n",
    "def emp_theor_graphics(ay, by, variation):\n",
    "    hi = (by - ay) / n\n",
    "    h_start = [hi*i for i in range(n)]\n",
    "    h_end = [h + hi for h in h_start]\n",
    "    f_emp = [len([v for v in variation if v <= hi])/n for hi in h_end]\n",
    "    plt.subplot(1, 2, 1)\n",
    "    plt.hlines(f_emp, h_start, h_end, color='red')\n",
    "    plt.xlim(ay, by)\n",
    "    plt.title(\"Эмпирическая функция\\n распределения\")\n",
    "    plt.subplot(1, 2, 2)\n",
    "    arg_list = np.arange(ay, by, 0.001)\n",
    "    func_theor = [F(x) for x in arg_list]\n",
    "    plt.plot(arg_list, func_theor, color='blue')\n",
    "    plt.xlim(ay, by)\n",
    "    plt.title(\"Теоретическая функция\\n распределения\")\n",
    "    plt.grid()\n",
    "    plt.show()\n",
    "    return h_start, h_end, f_emp"
   ]
  },
  {
   "cell_type": "code",
   "execution_count": 10,
   "metadata": {},
   "outputs": [
    {
     "data": {
      "image/png": "[encoded data removed]",
      "text/plain": [
       "<Figure size 432x288 with 2 Axes>"
      ]
     },
     "metadata": {
      "needs_background": "light"
     },
     "output_type": "display_data"
    },
    {
     "name": "stdout",
     "output_type": "stream",
     "text": [
      "Empirical function\n",
      "+-----------------+-------+\n",
      "|     Interval    | f emp |\n",
      "+-----------------+-------+\n",
      "| 0.0000 : 0.0800 |  0.16 |\n",
      "| 0.0800 : 0.1600 |  0.22 |\n",
      "| 0.1600 : 0.2400 |  0.24 |\n",
      "| 0.2400 : 0.3200 |  0.28 |\n",
      "| 0.3200 : 0.4000 |  0.3  |\n",
      "| 0.4000 : 0.4800 |  0.34 |\n",
      "| 0.4800 : 0.5600 |  0.36 |\n",
      "| 0.5600 : 0.6400 |  0.36 |\n",
      "| 0.6400 : 0.7200 |  0.36 |\n",
      "| 0.7200 : 0.8000 |  0.4  |\n",
      "| 0.8000 : 0.8800 |  0.46 |\n",
      "| 0.8800 : 0.9600 |  0.5  |\n",
      "| 0.9600 : 1.0400 |  0.52 |\n",
      "| 1.0400 : 1.1200 |  0.56 |\n",
      "| 1.1200 : 1.2000 |  0.6  |\n",
      "| 1.2000 : 1.2800 |  0.62 |\n",
      "| 1.2800 : 1.3600 |  0.64 |\n",
      "| 1.3600 : 1.4400 |  0.68 |\n",
      "| 1.4400 : 1.5200 |  0.7  |\n",
      "| 1.5200 : 1.6000 |  0.7  |\n",
      "| 1.6000 : 1.6800 |  0.7  |\n",
      "| 1.6800 : 1.7600 |  0.7  |\n",
      "| 1.7600 : 1.8400 |  0.72 |\n",
      "| 1.8400 : 1.9200 |  0.72 |\n",
      "| 1.9200 : 2.0000 |  0.72 |\n",
      "| 2.0000 : 2.0800 |  0.74 |\n",
      "| 2.0800 : 2.1600 |  0.76 |\n",
      "| 2.1600 : 2.2400 |  0.76 |\n",
      "| 2.2400 : 2.3200 |  0.76 |\n",
      "| 2.3200 : 2.4000 |  0.76 |\n",
      "| 2.4000 : 2.4800 |  0.76 |\n",
      "| 2.4800 : 2.5600 |  0.76 |\n",
      "| 2.5600 : 2.6400 |  0.76 |\n",
      "| 2.6400 : 2.7200 |  0.78 |\n",
      "| 2.7200 : 2.8000 |  0.8  |\n",
      "| 2.8000 : 2.8800 |  0.8  |\n",
      "| 2.8800 : 2.9600 |  0.86 |\n",
      "| 2.9600 : 3.0400 |  0.88 |\n",
      "| 3.0400 : 3.1200 |  0.94 |\n",
      "| 3.1200 : 3.2000 |  0.94 |\n",
      "| 3.2000 : 3.2800 |  0.94 |\n",
      "| 3.2800 : 3.3600 |  0.94 |\n",
      "| 3.3600 : 3.4400 |  0.94 |\n",
      "| 3.4400 : 3.5200 |  0.94 |\n",
      "| 3.5200 : 3.6000 |  0.96 |\n",
      "| 3.6000 : 3.6800 |  1.0  |\n",
      "| 3.6800 : 3.7600 |  1.0  |\n",
      "| 3.7600 : 3.8400 |  1.0  |\n",
      "| 3.8400 : 3.9200 |  1.0  |\n",
      "| 3.9200 : 4.0000 |  1.0  |\n",
      "+-----------------+-------+\n"
     ]
    }
   ],
   "source": [
    "ay, by = find_borders()\n",
    "start, end, f_emp = emp_theor_graphics(ay, by, variation)\n",
    "print(\"Empirical function\")\n",
    "f_emp_table = PrettyTable()\n",
    "f_emp_table.field_names = [\"Interval\", \"f emp\"]\n",
    "for i in range(len(f_emp)):\n",
    "    f_emp_table.add_row([\"%.4f\" % start[i] + \" : \" + \"%.4f\" % end[i], f_emp[i]])\n",
    "print(f_emp_table)"
   ]
  }
 ],
 "metadata": {
  "kernelspec": {
   "display_name": "Python 3",
   "language": "python",
   "name": "python3"
  },
  "language_info": {
   "codemirror_mode": {
    "name": "ipython",
    "version": 3
   },
   "file_extension": ".py",
   "mimetype": "text/x-python",
   "name": "python",
   "nbconvert_exporter": "python",
   "pygments_lexer": "ipython3",
   "version": "3.6.7"
  }
 },
 "nbformat": 4,
 "nbformat_minor": 2
}
