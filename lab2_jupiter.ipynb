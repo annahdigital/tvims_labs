{
 "cells": [
  {
   "cell_type": "markdown",
   "metadata": {},
   "source": [
    "#  Лабораторная работа 2."
   ]
  },
  {
   "cell_type": "markdown",
   "metadata": {},
   "source": [
    "### Статистический ряд. Построение гистограммы равноинтервальным методом. Построение гистограммы равновероятностным методом."
   ]
  },
  {
   "cell_type": "code",
   "execution_count": 2,
   "metadata": {},
   "outputs": [],
   "source": [
    "import random\n",
    "import matplotlib.pyplot as plt\n",
    "import numpy as np\n",
    "import math\n",
    "from prettytable import PrettyTable"
   ]
  },
  {
   "cell_type": "markdown",
   "metadata": {},
   "source": [
    "*Задание величины n (объем выборки и последующее формирование случайной величины Y = f(xᵢ):*"
   ]
  },
  {
   "cell_type": "code",
   "execution_count": 3,
   "metadata": {},
   "outputs": [],
   "source": [
    "a = -2\n",
    "b = 2\n",
    "\n",
    "def Y(x):\n",
    "    return x*x"
   ]
  },
  {
   "cell_type": "code",
   "execution_count": 4,
   "metadata": {},
   "outputs": [
    {
     "name": "stdout",
     "output_type": "stream",
     "text": [
      "Enter n. 500\n"
     ]
    }
   ],
   "source": [
    "n = int(input(\"Enter n. \"))"
   ]
  },
  {
   "cell_type": "code",
   "execution_count": 5,
   "metadata": {},
   "outputs": [],
   "source": [
    "eps = [np.random.uniform(0, 1) for i in range(n)]\n",
    "x = [(ei*(b-a) + a) for ei in eps]\n",
    "y = [Y(xi) for xi in x]\n",
    "variation = sorted(y)"
   ]
  },
  {
   "cell_type": "markdown",
   "metadata": {},
   "source": [
    "*Полученный вариационный ряд:*"
   ]
  },
  {
   "cell_type": "code",
   "execution_count": 6,
   "metadata": {},
   "outputs": [
    {
     "name": "stdout",
     "output_type": "stream",
     "text": [
      "[1e-06, 1e-05, 2.6e-05, 0.000133, 0.000162, 0.000234, 0.0004, 0.000555, 0.000854, 0.001212, 0.001671, 0.001929, 0.002912, 0.003604, 0.003693, 0.004698, 0.008678, 0.008836, 0.010709, 0.011724, 0.013034, 0.013173, 0.014072, 0.014428, 0.014445, 0.01523, 0.017119, 0.018822, 0.019357, 0.019751, 0.019809, 0.021887, 0.023802, 0.023981, 0.024146, 0.02562, 0.026094, 0.029613, 0.029983, 0.03191, 0.035709, 0.037706, 0.038348, 0.039362, 0.044024, 0.046165, 0.046528, 0.047477, 0.047928, 0.049504, 0.052314, 0.055304, 0.061752, 0.063048, 0.069363, 0.070509, 0.0723, 0.072592, 0.073861, 0.076015, 0.078853, 0.078913, 0.079585, 0.08065, 0.083559, 0.08378, 0.086507, 0.086543, 0.087915, 0.089632, 0.090291, 0.091365, 0.091865, 0.093113, 0.09615, 0.102567, 0.102664, 0.10351, 0.105913, 0.109078, 0.111215, 0.113308, 0.115719, 0.116109, 0.116351, 0.118165, 0.120761, 0.12495, 0.125736, 0.129469, 0.130584, 0.131223, 0.131495, 0.133287, 0.136137, 0.139142, 0.140891, 0.142684, 0.143701, 0.146582, 0.151248, 0.15217, 0.15605, 0.156234, 0.157263, 0.166778, 0.183164, 0.191101, 0.192304, 0.193849, 0.194442, 0.198743, 0.201754, 0.203319, 0.205513, 0.208602, 0.211243, 0.214545, 0.216622, 0.218939, 0.22105, 0.224229, 0.226143, 0.231289, 0.233273, 0.23401, 0.236102, 0.240608, 0.242943, 0.243773, 0.248734, 0.278825, 0.298366, 0.303131, 0.303685, 0.305177, 0.313469, 0.316285, 0.318266, 0.320631, 0.332398, 0.333435, 0.333912, 0.340399, 0.342502, 0.358114, 0.365427, 0.369239, 0.372465, 0.377541, 0.380146, 0.382047, 0.38441, 0.391394, 0.392035, 0.394314, 0.403263, 0.404001, 0.409527, 0.410052, 0.413236, 0.426128, 0.427108, 0.428115, 0.428819, 0.429269, 0.429542, 0.432146, 0.433169, 0.434659, 0.444464, 0.444751, 0.449121, 0.450169, 0.452239, 0.460619, 0.465949, 0.466861, 0.470412, 0.47043, 0.470889, 0.471901, 0.476895, 0.478281, 0.482222, 0.493166, 0.509785, 0.512764, 0.513134, 0.514328, 0.515996, 0.519313, 0.520475, 0.529445, 0.531902, 0.546042, 0.553076, 0.55819, 0.559132, 0.577788, 0.578527, 0.589197, 0.601018, 0.601782, 0.604169, 0.610055, 0.618336, 0.618808, 0.619534, 0.623349, 0.641306, 0.641392, 0.655614, 0.665455, 0.682146, 0.685522, 0.687622, 0.690995, 0.694726, 0.700915, 0.717755, 0.737823, 0.740405, 0.744234, 0.761605, 0.770018, 0.770648, 0.77765, 0.792009, 0.796569, 0.814107, 0.820134, 0.82095, 0.822384, 0.823194, 0.823951, 0.833234, 0.835194, 0.842678, 0.847225, 0.848728, 0.860579, 0.867552, 0.880022, 0.887117, 0.893222, 0.896182, 0.911302, 0.918069, 0.928714, 0.933411, 0.942671, 0.943371, 0.944648, 0.949152, 0.951852, 0.985228, 0.987429, 0.99705, 1.016587, 1.022761, 1.025769, 1.032656, 1.041002, 1.048029, 1.057278, 1.060142, 1.081363, 1.086949, 1.132554, 1.145167, 1.146416, 1.147003, 1.158913, 1.167188, 1.192676, 1.208244, 1.229513, 1.260381, 1.263992, 1.283189, 1.288633, 1.302521, 1.313539, 1.318563, 1.370992, 1.380615, 1.382505, 1.410666, 1.411733, 1.416959, 1.419621, 1.428325, 1.430664, 1.431895, 1.435245, 1.439328, 1.441946, 1.457996, 1.458221, 1.467594, 1.489324, 1.492286, 1.492594, 1.520133, 1.530921, 1.538558, 1.550556, 1.554895, 1.559016, 1.565266, 1.591471, 1.594496, 1.598633, 1.60478, 1.609393, 1.612144, 1.614367, 1.635664, 1.637842, 1.654321, 1.681259, 1.685003, 1.711788, 1.712029, 1.73099, 1.749076, 1.788538, 1.793905, 1.816902, 1.820713, 1.83817, 1.838794, 1.862345, 1.88323, 1.892433, 1.896172, 1.906022, 1.909853, 1.910312, 1.912752, 1.928174, 1.93573, 1.949195, 1.977798, 1.998273, 2.005814, 2.01883, 2.054752, 2.059665, 2.069931, 2.102951, 2.103222, 2.120303, 2.125045, 2.12896, 2.161439, 2.168557, 2.176772, 2.177762, 2.201198, 2.204889, 2.207072, 2.217605, 2.229881, 2.242666, 2.265362, 2.283896, 2.303481, 2.310592, 2.314103, 2.334863, 2.338765, 2.352904, 2.354298, 2.365061, 2.392806, 2.394086, 2.399346, 2.403336, 2.448185, 2.455222, 2.474024, 2.506984, 2.516601, 2.54528, 2.560613, 2.563489, 2.566412, 2.580106, 2.582416, 2.583457, 2.588333, 2.620721, 2.633087, 2.63866, 2.671978, 2.676122, 2.690036, 2.692787, 2.703318, 2.70512, 2.729471, 2.825174, 2.839861, 2.84315, 2.859141, 2.862636, 2.863549, 2.867331, 2.873423, 2.87367, 2.898188, 2.9049, 2.908263, 2.912568, 2.926378, 2.930729, 2.941132, 2.965723, 2.981058, 2.988034, 3.032091, 3.041186, 3.062503, 3.085764, 3.086401, 3.088913, 3.097738, 3.098787, 3.117893, 3.130531, 3.135273, 3.138076, 3.140755, 3.142905, 3.148922, 3.161551, 3.17266, 3.177259, 3.18225, 3.183646, 3.185332, 3.187196, 3.18893, 3.206776, 3.231401, 3.235781, 3.241706, 3.248545, 3.260872, 3.281861, 3.319947, 3.321986, 3.326224, 3.334689, 3.336453, 3.346919, 3.42605, 3.452615, 3.473934, 3.476189, 3.479246, 3.482191, 3.496179, 3.526664, 3.538908, 3.575775, 3.59088, 3.604655, 3.645377, 3.647317, 3.649169, 3.651001, 3.670337, 3.710803, 3.721217, 3.722789, 3.727335, 3.762869, 3.764435, 3.77968, 3.789465, 3.804633, 3.814095, 3.817045, 3.842558, 3.866677, 3.871422, 3.876743, 3.891565, 3.915288, 3.922864, 3.923273, 3.936877, 3.967515, 3.969334, 3.983463, 3.992209, 3.993618]\n"
     ]
    }
   ],
   "source": [
    "print_variation = [round(v, 6) for v in variation]\n",
    "print(print_variation)"
   ]
  },
  {
   "cell_type": "markdown",
   "metadata": {},
   "source": [
    "*Найдена теоретическая плотность распределения СВ Y и ее функцию распределения:*"
   ]
  },
  {
   "cell_type": "code",
   "execution_count": 7,
   "metadata": {},
   "outputs": [],
   "source": [
    "def f(y):\n",
    "    return 1/(4 * y**0.5)\n",
    "\n",
    "\n",
    "def F(y):\n",
    "    return y**0.5/2"
   ]
  },
  {
   "cell_type": "markdown",
   "metadata": {},
   "source": [
    "*Выбор параметра M (количества интервалов для группирования данных):*"
   ]
  },
  {
   "cell_type": "code",
   "execution_count": 8,
   "metadata": {},
   "outputs": [],
   "source": [
    "if n <= 100:\n",
    "    M = int(n**0.5)\n",
    "else:\n",
    "    M = int(random.uniform(2, 4) * math.log10(n))"
   ]
  },
  {
   "cell_type": "markdown",
   "metadata": {},
   "source": [
    "*Определение вспомогательных функций:*"
   ]
  },
  {
   "cell_type": "code",
   "execution_count": 9,
   "metadata": {},
   "outputs": [],
   "source": [
    "# Определение количества значений,\n",
    "# попадающих в пределы заданного интервала:\n",
    "def number_of_values_on_interval(M, variation, A_intervals, B_intervals):\n",
    "    v_interval = [0] * M\n",
    "    for i in range(0, M):\n",
    "        for value in variation:\n",
    "            if A_intervals[i] < value < B_intervals[i]:\n",
    "                v_interval[i] += 1\n",
    "            if value == B_intervals[i] and i != M - 1:\n",
    "                v_interval[i] += 0.5\n",
    "                v_interval[i + 1] += 0.5\n",
    "    v_interval[0] += 1\n",
    "    v_interval[-1] += 1\n",
    "    return v_interval\n",
    "\n",
    "\n",
    "# Определение интервала для значений Y = f(xᵢ)\n",
    "def find_borders():\n",
    "    ay = Y(a)\n",
    "    by = Y(b)\n",
    "    xes = np.arange(a, b + 0.001, 0.001)\n",
    "    for x in xes:\n",
    "        ay = min(ay, Y(x))\n",
    "        by = max(by, Y(x))\n",
    "    ay = round(ay, 2)\n",
    "    by = round(by, 2)\n",
    "    return ay, by\n",
    "\n",
    "\n",
    "# Построение гистограммы и полигона распределения\n",
    "def histogram_n_polygon(M, func, A, B):\n",
    "    plt.title(\"Гистограмма\\n и полигон\\n распределения\")\n",
    "    max_height = [0] * (M + 1)\n",
    "    for i in range(M):\n",
    "        max_height[i] = max(func[i-1], func[i])\n",
    "    max_height[0] = func[0]\n",
    "    max_height[-1] = func[-1]\n",
    "    plt.hlines(func, A, B, color='red')\n",
    "    plt.axhline(0, color='red')\n",
    "    A.append(B[-1])\n",
    "    plt.vlines(A, [0], max_height, color='red')\n",
    "    plt.xlim(A[0] - 0.5, B[-1] + 0.5)\n",
    "    middle = [(A[i] + A[i + 1])/2 for i in range(M)]\n",
    "    plt.plot(middle, func, color='blue')\n",
    "\n",
    "\n",
    "# Построение графика теоретической функции распределения\n",
    "def theor_density(ay, by, A, B, func):\n",
    "    plt.title(\"Теоретическая\\n плотность\\n  распределения\")\n",
    "    xes = np.arange(ay, by, 0.001)\n",
    "    ys = [f(x) for x in xes if x != 0]\n",
    "    xes = [x for x in xes if x != 0]\n",
    "    plt.ylim(-0.1, max(func) + 0.2)\n",
    "    plt.xlim(A[0] - 0.5, B[-1] + 0.5)\n",
    "    plt.hlines(0, A[0] - 0.5, 0, color='blue')\n",
    "    plt.hlines(0, 4, B[-1] + 0.5, color='blue')\n",
    "    plt.plot(xes, ys, color='blue')\n",
    "\n",
    "\n",
    "# Построение графика эмпирической функции распределения\n",
    "def emp_function(func, A, B, M):\n",
    "    plt.title(\"Эмпирическая\\n функция\\n  распределения\")\n",
    "    F_emp = [0] * M\n",
    "    F_emp[0] = func[0]*(B[0] - A[0])\n",
    "    for i in range(1, M):\n",
    "        F_emp[i] += F_emp[i-1] + func[i] * (B[i] - A[i])\n",
    "    plt.hlines(F_emp, A, B, lw=2)\n",
    "    print(\"Empirical function\")\n",
    "    f_emp_table = PrettyTable()\n",
    "    f_emp_table.field_names = [\"Interval\", \"f emp\"]\n",
    "    for i in range(len(func)):\n",
    "        f_emp_table.add_row([\"%.4f\" % A[i] + \" : \" + \"%.4f\" % B[i], func[i]])\n",
    "    print(f_emp_table)\n",
    "    \n",
    "# Построение графика эмпирической функции распределения,\n",
    "# гистограммы, полигона распределения и теоретической функции\n",
    "# распределения в одном окне\n",
    "def graphics(M, func, A, B):\n",
    "    plt.subplot(1, 3, 1)\n",
    "    histogram_n_polygon(M, func, A, B)\n",
    "    plt.grid()\n",
    "    plt.subplot(1, 3, 2)\n",
    "    ay, by = find_borders()\n",
    "    theor_density(ay, by, A, B, func)\n",
    "    plt.grid()\n",
    "    plt.subplot(2, 3, 3)\n",
    "    emp_function(func, A, B, M)\n",
    "    plt.grid()\n",
    "    plt.show()"
   ]
  },
  {
   "cell_type": "markdown",
   "metadata": {},
   "source": [
    "*Построение гистограммы равноинтервальным методом, полигона распределения и эмпирической функции распределения и представление результатов в виде таблицы и графика с сопутствующим сравнением графиков теоретической и эмпирической плотностей распределения:*"
   ]
  },
  {
   "cell_type": "code",
   "execution_count": 10,
   "metadata": {},
   "outputs": [],
   "source": [
    "def interval_method(variation, M, n):       # равноинтервальный метод\n",
    "    delta = (variation[-1] - variation[0])/M\n",
    "    A_intervals = [variation[0] + (i-1)*delta for i in range(1, M+1)]\n",
    "    B_intervals = [variation[0] + i*delta for i in range(1, M+1)]\n",
    "    v_interval = number_of_values_on_interval(M, variation, A_intervals, B_intervals)\n",
    "    f_interv = [v_interval[i]/(n*delta) for i in range(M)]  # эмпирическая функция плотности распределения\n",
    "    return A_intervals, B_intervals, f_interv"
   ]
  },
  {
   "cell_type": "code",
   "execution_count": 11,
   "metadata": {},
   "outputs": [
    {
     "name": "stdout",
     "output_type": "stream",
     "text": [
      "Равноинтервальный метод: \n",
      "\n",
      "Empirical function\n",
      "+-----------------+---------------------+\n",
      "|     Interval    |        f emp        |\n",
      "+-----------------+---------------------+\n",
      "| 0.0000 : 0.4437 |  0.7662227453425408 |\n",
      "| 0.4437 : 0.8875 | 0.33803944647465034 |\n",
      "| 0.8875 : 1.3312 | 0.18028770478648018 |\n",
      "| 1.3312 : 1.7749 |  0.1893020900258042 |\n",
      "| 1.7749 : 2.2187 | 0.16676612692749415 |\n",
      "| 2.2187 : 2.6624 | 0.14423016382918413 |\n",
      "| 2.6624 : 3.1061 | 0.15324454906850815 |\n",
      "| 3.1061 : 3.5499 | 0.16676612692749415 |\n",
      "| 3.5499 : 3.9936 | 0.14873735644884614 |\n",
      "+-----------------+---------------------+\n"
     ]
    },
    {
     "data": {
      "image/png": "[encoded data removed]",
      "text/plain": [
       "<Figure size 432x288 with 3 Axes>"
      ]
     },
     "metadata": {
      "needs_background": "light"
     },
     "output_type": "display_data"
    }
   ],
   "source": [
    "A_intervals, B_intervals, f_interv = interval_method(variation, M, n)\n",
    "print(\"Равноинтервальный метод: \\n\")\n",
    "graphics(M, f_interv, A_intervals, B_intervals)"
   ]
  },
  {
   "cell_type": "markdown",
   "metadata": {},
   "source": [
    "*Построение гистограммы равновероятностным методом, полигона распределения и эмпирической функции распределения и представление результатов в виде таблицы и графика с сопутствующим сравнением графиков теоретической и эмпирической плотностей распределения:*"
   ]
  },
  {
   "cell_type": "code",
   "execution_count": 12,
   "metadata": {},
   "outputs": [],
   "source": [
    "def possibility_method(variation, M, n):         # равновероятностный метод\n",
    "    mi = n // M\n",
    "    B_pos = [(variation[i * mi] + variation[i * mi + 1]) / 2 for i in range(1, M)] + [variation[-1]]\n",
    "    A_pos = [variation[0]] + B_pos[:-1]\n",
    "    delta_pos = [B_pos[i] - A_pos[i] for i in range(M)]\n",
    "    v_pos = number_of_values_on_interval(M, variation, A_pos, B_pos)\n",
    "    f_pos = [v_pos[i] / (n * delta_pos[i]) for i in range(M)]\n",
    "    return A_pos, B_pos, f_pos"
   ]
  },
  {
   "cell_type": "code",
   "execution_count": 13,
   "metadata": {},
   "outputs": [
    {
     "name": "stdout",
     "output_type": "stream",
     "text": [
      "Равновероятностный метод: \n",
      "\n",
      "Empirical function\n",
      "+-----------------+---------------------+\n",
      "|     Interval    |        f emp        |\n",
      "+-----------------+---------------------+\n",
      "| 0.0000 : 0.0714 |  1.5685629477756233 |\n",
      "| 0.0714 : 0.1966 |  0.8786774591093887 |\n",
      "| 0.1966 : 0.4294 |  0.4724825041350031 |\n",
      "| 0.4294 : 0.7278 | 0.36865292593652316 |\n",
      "| 0.7278 : 1.2005 | 0.23271995375579285 |\n",
      "| 1.2005 : 1.8294 |  0.1748859807967686 |\n",
      "| 1.8294 : 2.5529 | 0.15203767295302556 |\n",
      "| 2.5529 : 3.1829 | 0.17460270940534056 |\n",
      "| 3.1829 : 3.9936 |  0.1455585623468862 |\n",
      "+-----------------+---------------------+\n"
     ]
    },
    {
     "data": {
      "image/png": "[encoded data removed]",
      "text/plain": [
       "<Figure size 432x288 with 3 Axes>"
      ]
     },
     "metadata": {
      "needs_background": "light"
     },
     "output_type": "display_data"
    }
   ],
   "source": [
    "A_pos, B_pos, f_pos = possibility_method(variation, M, n)\n",
    "print(\"Равновероятностный метод: \\n\")\n",
    "graphics(M, f_pos, A_pos, B_pos)"
   ]
  }
 ],
 "metadata": {
  "kernelspec": {
   "display_name": "Python 3",
   "language": "python",
   "name": "python3"
  },
  "language_info": {
   "codemirror_mode": {
    "name": "ipython",
    "version": 3
   },
   "file_extension": ".py",
   "mimetype": "text/x-python",
   "name": "python",
   "nbconvert_exporter": "python",
   "pygments_lexer": "ipython3",
   "version": "3.6.7"
  }
 },
 "nbformat": 4,
 "nbformat_minor": 2
}
